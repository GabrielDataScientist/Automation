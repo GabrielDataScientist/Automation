{
 "cells": [
  {
   "cell_type": "markdown",
   "id": "7ebf8e86",
   "metadata": {},
   "source": [
    "# 1 - Automação de processos"
   ]
  },
  {
   "cell_type": "code",
   "execution_count": 5,
   "id": "02060795",
   "metadata": {},
   "outputs": [],
   "source": [
    "from selenium import webdriver\n",
    "from webdriver_manager.chrome import ChromeDriverManager\n",
    "from selenium.webdriver.chrome.service import Service\n",
    "from selenium.webdriver.common.by import By\n",
    "import time\n",
    "\n",
    "#Instalando automaticamente o webdriver mais atual para o Chrome\n",
    "servico = Service(ChromeDriverManager().install())"
   ]
  },
  {
   "cell_type": "code",
   "execution_count": 2,
   "id": "dba810c3",
   "metadata": {},
   "outputs": [],
   "source": [
    "#Instanciando o controlador do navegador\n",
    "navegador = webdriver.Chrome(service=servico)"
   ]
  },
  {
   "cell_type": "code",
   "execution_count": 23,
   "id": "9ced1658",
   "metadata": {},
   "outputs": [],
   "source": [
    "#Usando o get para acessar uma página\n",
    "navegador.get(\"https://github.com/\")\n",
    "\n",
    "#Realizando o evento de clicar no botão, através do endereço xpath\n",
    "navegador.find_element(By.XPATH, \n",
    "                       '/html/body/div[1]/div[1]/header/div/div[2]/div/div/div[2]/a').click()\n",
    "\n",
    "#Colocando o time.sleep porque algumas vezes o Python é mais rápido que a resposta do navegador, gerando erros\n",
    "time.sleep(5)\n",
    "\n",
    "#Inserindo o email e senha nas caixinhas(forma 1)\n",
    "navegador.find_element(By.ID, 'login_field').send_keys('seu_email')\n",
    "\n",
    "time.sleep(5)\n",
    "\n",
    "#Forma 2\n",
    "navegador.find_element(By.XPATH,'//*[@id=\"password\"]').send_keys('GabraxHack96')\n",
    "\n",
    "time.sleep(5)\n",
    "navegador.find_element(By.XPATH,'//*[@id=\"login\"]/div[4]/form/div/input[11]').click()"
   ]
  },
  {
   "cell_type": "markdown",
   "id": "8901bad2",
   "metadata": {},
   "source": [
    "## Coletando os atributos"
   ]
  },
  {
   "cell_type": "code",
   "execution_count": 6,
   "id": "100e8787",
   "metadata": {},
   "outputs": [
    {
     "name": "stdout",
     "output_type": "stream",
     "text": [
      "https://github.com/\n"
     ]
    }
   ],
   "source": [
    "navegador.get(\"https://github.com/\")\n",
    "link = navegador.find_element(By.XPATH, '/html/body/div[1]/div[1]/header/div/div[1]/a').get_attribute('href')\n",
    "print(link)"
   ]
  },
  {
   "cell_type": "markdown",
   "id": "3107ead3",
   "metadata": {},
   "source": [
    "## Enviando dados"
   ]
  },
  {
   "cell_type": "code",
   "execution_count": 11,
   "id": "4542d58e",
   "metadata": {},
   "outputs": [],
   "source": [
    "navegador.find_element(By.XPATH, '//*[@id=\"user_email\"]').send_keys(\"seuemail@email.com\")"
   ]
  },
  {
   "cell_type": "markdown",
   "id": "3ac21cb9",
   "metadata": {},
   "source": [
    "## Clicando no botão"
   ]
  },
  {
   "cell_type": "code",
   "execution_count": null,
   "id": "0d08564b",
   "metadata": {},
   "outputs": [],
   "source": [
    "navegador.find_element(By.XPATH, '/html/body/div[1]/div[4]/main/div[1]/div[2]/div/div/div[2]/div[2]/form/div/button').click()"
   ]
  },
  {
   "cell_type": "markdown",
   "id": "680bb103",
   "metadata": {},
   "source": [
    "## TagName"
   ]
  },
  {
   "cell_type": "code",
   "execution_count": 10,
   "id": "5df62fbb",
   "metadata": {},
   "outputs": [
    {
     "name": "stdout",
     "output_type": "stream",
     "text": [
      "5\n"
     ]
    }
   ],
   "source": [
    "tag = navegador.find_elements(By.TAG_NAME, 'input')\n",
    "print(len(tag))"
   ]
  },
  {
   "cell_type": "markdown",
   "id": "369f3ee4",
   "metadata": {},
   "source": [
    "## Switch\n",
    "\n",
    "Existem vários tipos. Conferir documentação"
   ]
  },
  {
   "cell_type": "code",
   "execution_count": null,
   "id": "ee618bd6",
   "metadata": {},
   "outputs": [],
   "source": [
    "alert = navegador.switch_to.alert()\n",
    "\n",
    "#Accept\n",
    "alert.accept()\n",
    "\n",
    "#Dismiss\n",
    "alert.dismiss()"
   ]
  }
 ],
 "metadata": {
  "kernelspec": {
   "display_name": "Python 3 (ipykernel)",
   "language": "python",
   "name": "python3"
  },
  "language_info": {
   "codemirror_mode": {
    "name": "ipython",
    "version": 3
   },
   "file_extension": ".py",
   "mimetype": "text/x-python",
   "name": "python",
   "nbconvert_exporter": "python",
   "pygments_lexer": "ipython3",
   "version": "3.11.3"
  }
 },
 "nbformat": 4,
 "nbformat_minor": 5
}
