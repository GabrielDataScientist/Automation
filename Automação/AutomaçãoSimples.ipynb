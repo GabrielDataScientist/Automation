{
 "cells": [
  {
   "cell_type": "markdown",
   "id": "7ebf8e86",
   "metadata": {},
   "source": [
    "# 1 - Automação de processos"
   ]
  },
  {
   "cell_type": "code",
   "execution_count": 5,
   "id": "02060795",
   "metadata": {},
   "outputs": [],
   "source": [
    "from selenium import webdriver\n",
    "from webdriver_manager.chrome import ChromeDriverManager\n",
    "from selenium.webdriver.chrome.service import Service\n",
    "from selenium.webdriver.common.by import By\n",
    "import time\n",
    "\n",
    "#Instalando automaticamente o webdriver mais atual para o Chrome\n",
    "servico = Service(ChromeDriverManager().install())"
   ]
  },
  {
   "cell_type": "code",
   "execution_count": 2,
   "id": "628a3363",
   "metadata": {},
   "outputs": [],
   "source": [
    "#Instanciando o controlador do navegador\n",
    "navegador = webdriver.Chrome(service=servico)"
   ]
  },
  {
   "cell_type": "code",
   "execution_count": 23,
   "id": "9ced1658",
   "metadata": {},
   "outputs": [],
   "source": [
    "#Usando o get para acessar uma página\n",
    "navegador.get(\"https://github.com/\")\n",
    "\n",
    "#Realizando o evento de clicar no botão, através do endereço xpath\n",
    "navegador.find_element(By.XPATH, \n",
    "                       '/html/body/div[1]/div[1]/header/div/div[2]/div/div/div[2]/a').click()\n",
    "\n",
    "#Colocando o time.sleep porque algumas vezes o Python é mais rápido que a resposta do navegador, gerando erros\n",
    "time.sleep(5)\n",
    "\n",
    "#Inserindo o email e senha nas caixinhas(forma 1)\n",
    "navegador.find_element(By.ID, 'login_field').send_keys('seu_email')\n",
    "\n",
    "time.sleep(5)\n",
    "\n",
    "#Forma 2\n",
    "navegador.find_element(By.XPATH,'//*[@id=\"password\"]').send_keys('GabraxHack96')\n",
    "\n",
    "time.sleep(5)\n",
    "navegador.find_element(By.XPATH,'//*[@id=\"login\"]/div[4]/form/div/input[11]').click()"
   ]
  },
  {
   "cell_type": "markdown",
   "id": "51703fa7",
   "metadata": {},
   "source": [
    "## Coletando os atributos"
   ]
  },
  {
   "cell_type": "code",
   "execution_count": 6,
   "id": "100e8787",
   "metadata": {},
   "outputs": [
    {
     "name": "stdout",
     "output_type": "stream",
     "text": [
      "https://github.com/\n"
     ]
    }
   ],
   "source": [
    "navegador.get(\"https://github.com/\")\n",
    "link = navegador.find_element(By.XPATH, '/html/body/div[1]/div[1]/header/div/div[1]/a').get_attribute('href')\n",
    "print(link)"
   ]
  },
  {
   "cell_type": "markdown",
   "id": "32450b9f",
   "metadata": {},
   "source": [
    "## Enviando dados"
   ]
  },
  {
   "cell_type": "code",
   "execution_count": 11,
   "id": "efefbd58",
   "metadata": {},
   "outputs": [],
   "source": [
    "navegador.find_element(By.XPATH, '//*[@id=\"user_email\"]').send_keys(\"seuemail@email.com\")"
   ]
  },
  {
   "cell_type": "markdown",
   "id": "7edd3098",
   "metadata": {},
   "source": [
    "## Pegando valor"
   ]
  },
  {
   "cell_type": "code",
   "execution_count": 12,
   "id": "3b074eb7",
   "metadata": {},
   "outputs": [
    {
     "name": "stdout",
     "output_type": "stream",
     "text": [
      "seuemail@email.com\n"
     ]
    }
   ],
   "source": [
    "valor = navegador.find_element(By.XPATH, '//*[@id=\"user_email\"]').get_attribute('value')\n",
    "print(valor)"
   ]
  },
  {
   "cell_type": "markdown",
   "id": "700e0f5c",
   "metadata": {},
   "source": [
    "## Clicando no botão"
   ]
  },
  {
   "cell_type": "code",
   "execution_count": null,
   "id": "1a57c2b5",
   "metadata": {},
   "outputs": [],
   "source": [
    "navegador.find_element(By.XPATH, '/html/body/div[1]/div[4]/main/div[1]/div[2]/div/div/div[2]/div[2]/form/div/button').click()"
   ]
  },
  {
   "cell_type": "markdown",
   "id": "d830fd0a",
   "metadata": {},
   "source": [
    "## TagName"
   ]
  },
  {
   "cell_type": "code",
   "execution_count": 10,
   "id": "440eff1a",
   "metadata": {},
   "outputs": [
    {
     "name": "stdout",
     "output_type": "stream",
     "text": [
      "5\n"
     ]
    }
   ],
   "source": [
    "tag = navegador.find_elements(By.TAG_NAME, 'input')\n",
    "print(len(tag))"
   ]
  },
  {
   "cell_type": "markdown",
   "id": "17ce93e2",
   "metadata": {},
   "source": [
    "## Switch\n",
    "\n",
    "Existem vários tipos. Conferir documentação"
   ]
  },
  {
   "cell_type": "code",
   "execution_count": null,
   "id": "2cf0f9a1",
   "metadata": {},
   "outputs": [],
   "source": [
    "alert = navegador.switch_to.alert()\n",
    "\n",
    "#Accept\n",
    "alert.accept()\n",
    "\n",
    "#Dismiss\n",
    "alert.dismiss()"
   ]
  },
  {
   "cell_type": "markdown",
   "id": "3693819a",
   "metadata": {},
   "source": [
    "## Action Chains\n",
    "\n",
    "Simula clic do mouse"
   ]
  },
  {
   "cell_type": "code",
   "execution_count": 14,
   "id": "651867ed",
   "metadata": {},
   "outputs": [],
   "source": [
    "from selenium.webdriver import ActionChains"
   ]
  },
  {
   "cell_type": "code",
   "execution_count": 16,
   "id": "b6c29c2a",
   "metadata": {},
   "outputs": [],
   "source": [
    "item = navegador.find_element(By.XPATH, '/html/body/div[1]/div[4]/main/div[1]/div[2]/div/div/div[2]/div[2]/a')\n",
    "\n",
    "#Passa o objeto como parâmetro para ActionChains(navegador), \n",
    "#coloque o mouse em cima do item(move_to_element(item)) e clica (perform())\n",
    "ActionChains(navegador).move_to_element(item).perform()\n",
    "\n",
    "#Clica\n",
    "item.click()"
   ]
  },
  {
   "cell_type": "markdown",
   "id": "3cc4bc52",
   "metadata": {},
   "source": [
    "## Explicit Waits"
   ]
  },
  {
   "cell_type": "code",
   "execution_count": 17,
   "id": "1d666135",
   "metadata": {},
   "outputs": [],
   "source": [
    "from selenium.webdriver.support.ui import WebDriverWait\n",
    "from selenium.webdriver.support import expected_conditions as EC\n",
    "\n",
    "#Tem que passar uma tupla para dentro do EC.presence_of_element_located(())\n",
    "element = WebDriverWait(driver, 10).until(\n",
    "    EC.presence_of_element_located((By.ID, \"myDynamicElement\"))\n",
    "\n",
    "element.click()"
   ]
  },
  {
   "cell_type": "code",
   "execution_count": null,
   "id": "67ea6349",
   "metadata": {},
   "outputs": [],
   "source": []
  }
 ],
 "metadata": {
  "kernelspec": {
   "display_name": "Python 3 (ipykernel)",
   "language": "python",
   "name": "python3"
  },
  "language_info": {
   "codemirror_mode": {
    "name": "ipython",
    "version": 3
   },
   "file_extension": ".py",
   "mimetype": "text/x-python",
   "name": "python",
   "nbconvert_exporter": "python",
   "pygments_lexer": "ipython3",
   "version": "3.11.3"
  }
 },
 "nbformat": 4,
 "nbformat_minor": 5
}
